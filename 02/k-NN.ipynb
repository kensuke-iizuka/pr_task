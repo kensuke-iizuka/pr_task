{
 "cells": [
  {
   "cell_type": "code",
   "execution_count": 10,
   "metadata": {},
   "outputs": [],
   "source": [
    "import sys\n",
    "import os\n",
    "import numpy as np\n",
    "from numpy import random\n",
    "from PIL import Image\n",
    "from collections import Counter"
   ]
  },
  {
   "cell_type": "code",
   "execution_count": 11,
   "metadata": {},
   "outputs": [],
   "source": [
    "# prototype array\n",
    "train_num = 100\n",
    "train_img = np.zeros((10,train_num,28,28), dtype=np.float32)"
   ]
  },
  {
   "cell_type": "code",
   "execution_count": 12,
   "metadata": {},
   "outputs": [],
   "source": [
    "# Input from user\n",
    "args = sys.argv\n",
    "# jupyter can't get input from stdin\n",
    "#K = int(args[1])\n",
    "K = 3"
   ]
  },
  {
   "cell_type": "code",
   "execution_count": 13,
   "metadata": {},
   "outputs": [],
   "source": [
    "# Reading prototype from mnist data\n",
    "for i in range(10):\n",
    "  for j in range(1,train_num+1):\n",
    "    train_file = \"../data/mnist/train/\" + str(i) + \"/\" + str(i) + \"_\" + str(j) + \".jpg\"\n",
    "    train_img[i][j-1] = np.asarray(Image.open(train_file).convert('L')).astype(np.float32)"
   ]
  },
  {
   "cell_type": "code",
   "execution_count": 14,
   "metadata": {},
   "outputs": [],
   "source": [
    "# 混合行列\n",
    "result = np.zeros((10,10), dtype=np.int32)"
   ]
  },
  {
   "cell_type": "code",
   "execution_count": 15,
   "metadata": {},
   "outputs": [
    {
     "name": "stdout",
     "output_type": "stream",
     "text": [
      "[1 2]\n",
      "6\n",
      "0 100 -> [0. 6. 6.] 6\n",
      "[3]\n",
      "1\n",
      "1 100 -> [1. 1. 1.] 1\n",
      "[3]\n",
      "2\n",
      "2 100 -> [2. 2. 2.] 2\n",
      "[1 1 1]\n",
      "1\n",
      "3 100 -> [1. 5. 8.] 1\n",
      "[3]\n",
      "4\n",
      "4 100 -> [4. 4. 4.] 4\n",
      "[1 2]\n",
      "9\n",
      "5 100 -> [5. 9. 9.] 9\n",
      "[3]\n",
      "0\n",
      "6 100 -> [0. 0. 0.] 0\n",
      "[2 1]\n",
      "7\n",
      "7 100 -> [7. 9. 7.] 7\n",
      "[3]\n",
      "9\n",
      "8 100 -> [9. 9. 9.] 9\n",
      "[1 2]\n",
      "5\n",
      "9 100 -> [5. 0. 5.] 5\n",
      "\n",
      " [ 混合行列 ]\n",
      "[[0 0 0 0 0 0 1 0 0 0]\n",
      " [0 1 0 0 0 0 0 0 0 0]\n",
      " [0 0 1 0 0 0 0 0 0 0]\n",
      " [0 1 0 0 0 0 0 0 0 0]\n",
      " [0 0 0 0 1 0 0 0 0 0]\n",
      " [0 0 0 0 0 0 0 0 0 1]\n",
      " [1 0 0 0 0 0 0 0 0 0]\n",
      " [0 0 0 0 0 0 0 1 0 0]\n",
      " [0 0 0 0 0 0 0 0 0 1]\n",
      " [0 0 0 0 0 1 0 0 0 0]]\n",
      "\n",
      " 正解数 ->  4\n"
     ]
    }
   ],
   "source": [
    "for i in range(10):\n",
    "  for j in range(1,101):\n",
    "    # 未知パターンの読み込み\n",
    "    pat_file = \"../data/mnist/test/\" + str(i) + \"/\" + str(i) + \"_\" + str(j) + \".jpg\"\n",
    "    pat_img = np.asarray(Image.open(pat_file).convert('L')).astype(np.float32)\n",
    "\n",
    "    min_val = np.full(K, np.inf)\n",
    "    ans = np.zeros(K)\n",
    "    # k-NN\n",
    "    for k in range(10):\n",
    "      for l in range(1,train_num+1):\n",
    "        # Calculate SSD\n",
    "        t = train_img[k][l-1].flatten()\n",
    "        p = pat_img.flatten()\n",
    "        dist = np.dot( (t-p).T , (t-p) )\n",
    "        # explore minimum value\n",
    "        for m in range(K):\n",
    "          if dist < min_val[m]:\n",
    "            min_val[m] = dist\n",
    "            ans[m] = int(k)\n",
    "            break\n",
    "          else:\n",
    "            continue\n",
    "  c = Counter(ans)\n",
    "  mode = c.most_common(1)\n",
    "  count = np.array([v for key,v in sorted(c.items())])\n",
    "  print(count)\n",
    "  final_ans = int(mode[0][0])\n",
    "  print(final_ans)\n",
    "  # Output result\n",
    "  result[i][final_ans] +=1\n",
    "  print( i , j , \"->\" , ans, final_ans )\n",
    "  \n",
    "print( \"\\n [ 混合行列 ]\" )\n",
    "print( result )\n",
    "print( \"\\n 正解数 -> \" , np.trace(result) )\n"
   ]
  }
 ],
 "metadata": {
  "kernelspec": {
   "display_name": "Python 3",
   "language": "python",
   "name": "python3"
  },
  "language_info": {
   "codemirror_mode": {
    "name": "ipython",
    "version": 3
   },
   "file_extension": ".py",
   "mimetype": "text/x-python",
   "name": "python",
   "nbconvert_exporter": "python",
   "pygments_lexer": "ipython3",
   "version": "3.6.7"
  }
 },
 "nbformat": 4,
 "nbformat_minor": 2
}
